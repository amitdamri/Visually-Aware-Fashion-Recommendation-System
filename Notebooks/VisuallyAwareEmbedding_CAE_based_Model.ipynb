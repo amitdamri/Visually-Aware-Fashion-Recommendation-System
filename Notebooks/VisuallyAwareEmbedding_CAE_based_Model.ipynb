{
  "nbformat": 4,
  "nbformat_minor": 0,
  "metadata": {
    "accelerator": "GPU",
    "colab": {
      "name": "VisuallyAwareEmbedding_CAE_based_Model.ipynb",
      "provenance": [],
      "collapsed_sections": [
        "BawsvBHKSL8l"
      ]
    },
    "kernelspec": {
      "display_name": "Python 3",
      "name": "python3"
    },
    "language_info": {
      "name": "python"
    }
  },
  "cells": [
    {
      "cell_type": "markdown",
      "metadata": {
        "id": "uXGNlgsARvaV"
      },
      "source": [
        "# Libraries"
      ]
    },
    {
      "cell_type": "code",
      "metadata": {
        "id": "jyW-QMsbRxcU"
      },
      "source": [
        "# global libraries\n",
        "import os\n",
        "import sys\n",
        "\n",
        "import random\n",
        "import numpy as np\n",
        "import pandas as pd\n",
        "from datetime import datetime, timedelta\n",
        "\n",
        "from IPython.display import display\n",
        "from keras import backend as K\n",
        "from keras.models import model_from_yaml\n",
        "from keras.utils.np_utils import to_categorical   \n",
        "from keras.regularizers import l2\n",
        "from keras.optimizers import Adam\n",
        "# Libraries\n",
        "\n",
        "from io import StringIO, BytesIO\n",
        "import requests\n",
        "\n",
        "from keras import backend as K\n",
        "\n",
        "import random\n",
        "import numpy as np\n",
        "from datetime import datetime\n",
        "from pytz import timezone\n",
        "\n",
        "from PIL import Image"
      ],
      "execution_count": null,
      "outputs": []
    },
    {
      "cell_type": "code",
      "metadata": {
        "id": "bm21EbS-hasl"
      },
      "source": [
        "# CNN Libraries\n",
        "import numpy as np\n",
        "\n",
        "from keras import backend as K\n",
        "from keras.models import Sequential\n",
        "from keras.layers import ZeroPadding2D, MaxPooling2D\n",
        "from keras.layers.normalization import BatchNormalization\n",
        "from keras.layers.convolutional import Conv2D\n",
        "from keras.layers.core import Activation\n",
        "from keras.layers.core import Dropout\n",
        "from keras.layers.core import Flatten, Dense\n",
        "from keras.regularizers import l2"
      ],
      "execution_count": null,
      "outputs": []
    },
    {
      "cell_type": "code",
      "metadata": {
        "id": "oCsbvCKHhmG-"
      },
      "source": [
        "# Siamese Libraries\n",
        "from keras.models import Model\n",
        "from keras.layers import Input, Lambda, Concatenate, Dot, Embedding, Flatten\n",
        "import tensorflow as tf"
      ],
      "execution_count": null,
      "outputs": []
    },
    {
      "cell_type": "code",
      "metadata": {
        "id": "iG6b7Avw0Nf2"
      },
      "source": [
        "# CAE Libraries\n",
        "import math\n",
        "from keras.layers import Dense, Conv2D, Flatten, Conv2DTranspose, BatchNormalization, MaxPooling2D, Reshape\n",
        "import keras\n",
        "from keras.preprocessing.image import img_to_array, array_to_img"
      ],
      "execution_count": null,
      "outputs": []
    },
    {
      "cell_type": "markdown",
      "metadata": {
        "id": "AdVO8Ok577Kp"
      },
      "source": [
        "# Connect to Drive"
      ]
    },
    {
      "cell_type": "code",
      "metadata": {
        "colab": {
          "base_uri": "https://localhost:8080/"
        },
        "id": "sGkUHV4Kas9l",
        "outputId": "a5132e99-b366-4c91-f908-51169aa7d26a"
      },
      "source": [
        "# mount google drive\n",
        "from google.colab import drive\n",
        "drive.mount('/content/gdrive')"
      ],
      "execution_count": null,
      "outputs": [
        {
          "output_type": "stream",
          "text": [
            "Mounted at /content/gdrive\n"
          ],
          "name": "stdout"
        }
      ]
    },
    {
      "cell_type": "code",
      "metadata": {
        "colab": {
          "base_uri": "https://localhost:8080/"
        },
        "id": "mnpRHkw6bA16",
        "outputId": "b40bf0e8-dd2f-4b87-96cc-7fe468c1ad44"
      },
      "source": [
        "# change directory to dataset path\n",
        "%cd gdrive/My Drive/visually aware/visually-aware-recommender-system/notebooks"
      ],
      "execution_count": null,
      "outputs": [
        {
          "output_type": "stream",
          "text": [
            "/content/gdrive/My Drive/visually aware/visually-aware-recommender-system/notebooks\n"
          ],
          "name": "stdout"
        }
      ]
    },
    {
      "cell_type": "markdown",
      "metadata": {
        "id": "O1ISVktcRaqV"
      },
      "source": [
        "# Load Data"
      ]
    },
    {
      "cell_type": "code",
      "metadata": {
        "colab": {
          "base_uri": "https://localhost:8080/"
        },
        "id": "XvAPb-V0UU_d",
        "outputId": "4e0403f8-6223-452f-8770-28bf6467c54a"
      },
      "source": [
        "# un-note the dataset you want to download and to work on\n",
        "\n",
        "# !wget http://cseweb.ucsd.edu/~wckang/DVBPR/AmazonFashion6ImgPartitioned.npy\n",
        "# !wget http://cseweb.ucsd.edu/~wckang/DVBPR/TradesyImgPartitioned.npy\n",
        "!wget http://cseweb.ucsd.edu/~wckang/DVBPR/AmazonMenWithImgPartitioned.npy"
      ],
      "execution_count": null,
      "outputs": [
        {
          "output_type": "stream",
          "text": [
            "--2021-07-17 17:27:43--  http://cseweb.ucsd.edu/~wckang/DVBPR/AmazonMenWithImgPartitioned.npy\n",
            "Resolving cseweb.ucsd.edu (cseweb.ucsd.edu)... 132.239.8.30\n",
            "Connecting to cseweb.ucsd.edu (cseweb.ucsd.edu)|132.239.8.30|:80... connected.\n",
            "HTTP request sent, awaiting response... 200 OK\n",
            "Length: 2276159058 (2.1G)\n",
            "Saving to: ‘AmazonMenWithImgPartitioned.npy’\n",
            "\n",
            "  AmazonMenWithImgP  11%[=>                  ] 254.87M   159MB/s               ^C\n"
          ],
          "name": "stdout"
        }
      ]
    },
    {
      "cell_type": "code",
      "metadata": {
        "id": "jXI1fuhIRbts"
      },
      "source": [
        "# # un-note the dataset you want to work on\n",
        "\n",
        "\n",
        "# Load data - AmazonFashion6ImgPartitioned\n",
        "# dataset = np.load(\"AmazonFashion6ImgPartitioned.npy\",\n",
        "#                   encoding=\"bytes\", allow_pickle=True)\n",
        "\n",
        "# # Load data - TradesyImgPartitioned\n",
        "# dataset = np.load(\"TradesyImgPartitioned.npy\",\n",
        "#                   encoding=\"bytes\", allow_pickle=True)\n",
        "# [user_train, user_validation, user_test, items, user_num, item_num] = dataset\n",
        "\n",
        "# Load data - AmazonMenWithImgPartitioned\n",
        "dataset = np.load(\"AmazonMenWithImgPartitioned.npy\",\n",
        "                  encoding=\"bytes\", allow_pickle=True)\n",
        "[user_train, user_validation, user_test, items, user_num, item_num] = dataset"
      ],
      "execution_count": null,
      "outputs": []
    },
    {
      "cell_type": "markdown",
      "metadata": {
        "id": "BawsvBHKSL8l"
      },
      "source": [
        "# Hyper parameters"
      ]
    },
    {
      "cell_type": "code",
      "metadata": {
        "id": "uux6JXOKSOB4"
      },
      "source": [
        "# Network params\n",
        "# image size\n",
        "image_width = 224\n",
        "image_height = 224\n",
        "\n",
        "# latent dimensionality K\n",
        "latent_dimensionality = 50\n",
        "\n",
        "# weight decay - conv layer\n",
        "lambda_cnn = 0.001\n",
        "# weight decay - fc layer\n",
        "lambda_fc = 0.001\n",
        "# regularizer for theta_u\n",
        "lambda_u = 1.0"
      ],
      "execution_count": null,
      "outputs": []
    },
    {
      "cell_type": "code",
      "metadata": {
        "id": "1wHULKb6wAGt"
      },
      "source": [
        "# Training params\n",
        "# epoch params\n",
        "learning_rate = 1e-4\n",
        "training_epoch = 3 # 30\n",
        "batch_count = 2**8\n",
        "# batch_size = 2**7\n",
        "validation_sample_count = 100"
      ],
      "execution_count": null,
      "outputs": []
    },
    {
      "cell_type": "markdown",
      "metadata": {
        "id": "yearSmSWvbbt"
      },
      "source": [
        "#Convolutional Autoencoder Model"
      ]
    },
    {
      "cell_type": "markdown",
      "metadata": {
        "id": "sUgbUAbPvevC"
      },
      "source": [
        "##Load Autoencoder"
      ]
    },
    {
      "cell_type": "code",
      "metadata": {
        "id": "4Mpp0tZsvnYx",
        "colab": {
          "base_uri": "https://localhost:8080/"
        },
        "outputId": "d5a9f727-b7af-4eeb-f67e-5df2ac75ba6a"
      },
      "source": [
        "ae_path = \"gdrive/My Drive/visually aware/autoencoder model/autoencoder_amazon_men\"\n",
        "autoencoder = keras.models.load_model(ae_path)\n",
        "\n",
        "encoder_path = \"gdrive/My Drive/visually aware/autoencoder model/encoder_amazon_men\"\n",
        "encoder = keras.models.load_model(encoder_path)\n",
        "\n",
        "decoder_path = \"gdrive/My Drive/visually aware/autoencoder model/decoder_amazon_men\"\n",
        "decoder = keras.models.load_model(decoder_path)"
      ],
      "execution_count": null,
      "outputs": [
        {
          "output_type": "stream",
          "text": [
            "WARNING:tensorflow:No training configuration found in save file, so the model was *not* compiled. Compile it manually.\n",
            "WARNING:tensorflow:No training configuration found in save file, so the model was *not* compiled. Compile it manually.\n"
          ],
          "name": "stdout"
        }
      ]
    },
    {
      "cell_type": "code",
      "metadata": {
        "id": "8gh48IYDD1rh"
      },
      "source": [
        "trained_encoder = encoder"
      ],
      "execution_count": null,
      "outputs": []
    },
    {
      "cell_type": "code",
      "metadata": {
        "id": "AJm_LoL2vo8i",
        "colab": {
          "base_uri": "https://localhost:8080/"
        },
        "outputId": "969e4c3c-f8dc-4d74-f8aa-3e49a2da8c74"
      },
      "source": [
        "autoencoder.summary()"
      ],
      "execution_count": null,
      "outputs": [
        {
          "output_type": "stream",
          "text": [
            "Model: \"autoencoder\"\n",
            "_________________________________________________________________\n",
            "Layer (type)                 Output Shape              Param #   \n",
            "=================================================================\n",
            "input_1 (InputLayer)         [(None, 224, 224, 3)]     0         \n",
            "_________________________________________________________________\n",
            "encoder (Functional)         (None, 147)               305107    \n",
            "_________________________________________________________________\n",
            "decoder (Functional)         (None, 224, 224, 3)       72259     \n",
            "=================================================================\n",
            "Total params: 377,366\n",
            "Trainable params: 376,982\n",
            "Non-trainable params: 384\n",
            "_________________________________________________________________\n"
          ],
          "name": "stdout"
        }
      ]
    },
    {
      "cell_type": "code",
      "metadata": {
        "id": "FRAh8xVDvqQX",
        "colab": {
          "base_uri": "https://localhost:8080/"
        },
        "outputId": "8c807520-c201-435f-cd9a-f64ee68e1a8b"
      },
      "source": [
        "encoder.summary()"
      ],
      "execution_count": null,
      "outputs": [
        {
          "output_type": "stream",
          "text": [
            "Model: \"encoder\"\n",
            "_________________________________________________________________\n",
            "Layer (type)                 Output Shape              Param #   \n",
            "=================================================================\n",
            "input_1 (InputLayer)         [(None, 224, 224, 3)]     0         \n",
            "_________________________________________________________________\n",
            "conv2d (Conv2D)              (None, 222, 222, 16)      448       \n",
            "_________________________________________________________________\n",
            "max_pooling2d (MaxPooling2D) (None, 111, 111, 16)      0         \n",
            "_________________________________________________________________\n",
            "conv2d_1 (Conv2D)            (None, 109, 109, 32)      4640      \n",
            "_________________________________________________________________\n",
            "max_pooling2d_1 (MaxPooling2 (None, 54, 54, 32)        0         \n",
            "_________________________________________________________________\n",
            "conv2d_2 (Conv2D)            (None, 52, 52, 32)        9248      \n",
            "_________________________________________________________________\n",
            "max_pooling2d_2 (MaxPooling2 (None, 26, 26, 32)        0         \n",
            "_________________________________________________________________\n",
            "conv2d_3 (Conv2D)            (None, 24, 24, 64)        18496     \n",
            "_________________________________________________________________\n",
            "max_pooling2d_3 (MaxPooling2 (None, 12, 12, 64)        0         \n",
            "_________________________________________________________________\n",
            "conv2d_4 (Conv2D)            (None, 10, 10, 64)        36928     \n",
            "_________________________________________________________________\n",
            "max_pooling2d_4 (MaxPooling2 (None, 5, 5, 64)          0         \n",
            "_________________________________________________________________\n",
            "flatten (Flatten)            (None, 1600)              0         \n",
            "_________________________________________________________________\n",
            "dense (Dense)                (None, 147)               235347    \n",
            "=================================================================\n",
            "Total params: 305,107\n",
            "Trainable params: 305,107\n",
            "Non-trainable params: 0\n",
            "_________________________________________________________________\n"
          ],
          "name": "stdout"
        }
      ]
    },
    {
      "cell_type": "code",
      "metadata": {
        "id": "_ZNCXrp6vr3X",
        "colab": {
          "base_uri": "https://localhost:8080/"
        },
        "outputId": "914b2625-42e8-476d-f8d7-10e02df5d0b2"
      },
      "source": [
        "decoder.summary()"
      ],
      "execution_count": null,
      "outputs": [
        {
          "output_type": "stream",
          "text": [
            "Model: \"decoder\"\n",
            "_________________________________________________________________\n",
            "Layer (type)                 Output Shape              Param #   \n",
            "=================================================================\n",
            "input_2 (InputLayer)         [(None, 147)]             0         \n",
            "_________________________________________________________________\n",
            "reshape (Reshape)            (None, 7, 7, 3)           0         \n",
            "_________________________________________________________________\n",
            "conv2d_transpose (Conv2DTran (None, 14, 14, 64)        1792      \n",
            "_________________________________________________________________\n",
            "batch_normalization (BatchNo (None, 14, 14, 64)        256       \n",
            "_________________________________________________________________\n",
            "conv2d_transpose_1 (Conv2DTr (None, 28, 28, 64)        36928     \n",
            "_________________________________________________________________\n",
            "batch_normalization_1 (Batch (None, 28, 28, 64)        256       \n",
            "_________________________________________________________________\n",
            "conv2d_transpose_2 (Conv2DTr (None, 56, 56, 32)        18464     \n",
            "_________________________________________________________________\n",
            "batch_normalization_2 (Batch (None, 56, 56, 32)        128       \n",
            "_________________________________________________________________\n",
            "conv2d_transpose_3 (Conv2DTr (None, 112, 112, 32)      9248      \n",
            "_________________________________________________________________\n",
            "batch_normalization_3 (Batch (None, 112, 112, 32)      128       \n",
            "_________________________________________________________________\n",
            "conv2d_transpose_4 (Conv2DTr (None, 224, 224, 16)      4624      \n",
            "_________________________________________________________________\n",
            "conv2d_5 (Conv2D)            (None, 224, 224, 3)       435       \n",
            "=================================================================\n",
            "Total params: 72,259\n",
            "Trainable params: 71,875\n",
            "Non-trainable params: 384\n",
            "_________________________________________________________________\n"
          ],
          "name": "stdout"
        }
      ]
    },
    {
      "cell_type": "markdown",
      "metadata": {
        "id": "SWQ-3JOwvhEE"
      },
      "source": [
        "##Train Autoencoder"
      ]
    },
    {
      "cell_type": "markdown",
      "metadata": {
        "id": "ylLJaFpEv4km"
      },
      "source": [
        "###Build Autoencoder"
      ]
    },
    {
      "cell_type": "code",
      "metadata": {
        "id": "ryHTMFgZvltL"
      },
      "source": [
        "def get_autoencoder_model(input_shape = (224,224,3), encoding_shape=49):\n",
        "  # get the autoencoder model\n",
        "  \n",
        "  # the input image\n",
        "  input_img = Input(input_shape)\n",
        "\n",
        "  # encoder\n",
        "  encoded = Conv2D(16, (3,3), activation='relu', input_shape=input_shape)(input_img)\n",
        "  encoded = MaxPooling2D((2, 2))(encoded)\n",
        "  encoded = Conv2D(32, (3,3), activation='relu')(encoded)\n",
        "  encoded = MaxPooling2D((2, 2))(encoded)\n",
        "  encoded = Conv2D(32, (3,3), activation='relu')(encoded)\n",
        "  encoded = MaxPooling2D((2, 2))(encoded)\n",
        "  encoded = Conv2D(64, (3,3), activation='relu')(encoded)\n",
        "  encoded = MaxPooling2D((2, 2))(encoded)\n",
        "  encoded = Conv2D(64, (3,3), activation='relu')(encoded)\n",
        "  encoded = MaxPooling2D((2, 2))(encoded)\n",
        "  l = Flatten()(encoded)\n",
        "  l = Dense(encoding_shape * 3, activation=\"softmax\")(l)\n",
        "\n",
        "  encoder = Model(input_img, l, name=\"encoder\")\n",
        "\n",
        "  # decoder\n",
        "  latent_inputs = Input(shape=(encoding_shape * 3,))\n",
        "  decoded = Reshape((int(math.sqrt(encoding_shape)), int(math.sqrt(encoding_shape)),3))(latent_inputs)\n",
        "  decoded = Conv2DTranspose(64, (3,3), strides = 2, activation='relu', padding='same')(decoded)\n",
        "  decoded = BatchNormalization()(decoded)\n",
        "  decoded = Conv2DTranspose(64, (3,3), strides = 2, activation='relu', padding='same')(decoded)\n",
        "  decoded = BatchNormalization()(decoded)\n",
        "  decoded = Conv2DTranspose(32, (3,3), strides = 2, activation=\"relu\", padding=\"same\")(decoded)\n",
        "  decoded = BatchNormalization()(decoded)\n",
        "  decoded = Conv2DTranspose(32, (3,3), strides = 2, activation=\"relu\", padding=\"same\")(decoded)\n",
        "  decoded = BatchNormalization()(decoded)\n",
        "  decoded = Conv2DTranspose(16, (3,3), strides = 2, activation=\"relu\", padding=\"same\")(decoded)\n",
        "  decoded = Conv2D(3, (3,3), activation='sigmoid', padding=\"same\")(decoded)\n",
        "\n",
        "  decoder = Model(latent_inputs, decoded, name=\"decoder\")\n",
        "  \n",
        "\n",
        "  # create the complete autoencoder model\n",
        "  autoencoder_model = Model(input_img, decoder(encoder(input_img)), name=\"autoencoder\")\n",
        "  autoencoder_model.summary()\n",
        "\n",
        "  autoencoder_model.compile(optimizer='adam', loss='mse')\n",
        "\n",
        "  return autoencoder_model, encoder, decoder\n",
        "\n",
        "\n"
      ],
      "execution_count": null,
      "outputs": []
    },
    {
      "cell_type": "markdown",
      "metadata": {
        "id": "nE9X2thxv67g"
      },
      "source": [
        "###Training"
      ]
    },
    {
      "cell_type": "code",
      "metadata": {
        "id": "Zj5ZYnzOz4AM"
      },
      "source": [
        "cae_batch_size = 32"
      ],
      "execution_count": null,
      "outputs": []
    },
    {
      "cell_type": "code",
      "metadata": {
        "id": "Ut4UkrokwFP5"
      },
      "source": [
        "def cae_generator(items=items, batch_size=cae_batch_size, image_height=224, image_width=224):\n",
        "  # create a genrator that makes and serves batches of the items in the dataset\n",
        "\n",
        "  while True:\n",
        "    ind = 0\n",
        "    imgs_list = []\n",
        "    num_items = 0\n",
        "\n",
        "    for item_ind in range(batch_size):# range(len(items)):\n",
        "      # print(item_ind)\n",
        "      item = items[ind]\n",
        "      # print(num_items)\n",
        "      try:\n",
        "        # image_url = items[item][b'imUrl'].decode(\"utf-8\")\n",
        "        image_url = item[b'imUrl'].decode(\"utf-8\")\n",
        "        response = requests.get(image_url)\n",
        "        img = Image.open(BytesIO(response.content))\n",
        "\n",
        "        img_arr = np.uint8(np.asarray(img.convert(\"RGB\").resize((image_height, image_width))))\n",
        "        img_arr = (img_arr - 127.5) / 127.5\n",
        "        imgs_list.append(img_arr)\n",
        "\n",
        "        num_items+=1\n",
        "      except Exception as e:\n",
        "        # print(e)\n",
        "        continue\n",
        "      \n",
        "      ind+=1 #go to next item image\n",
        "    # print(imgs_list)\n",
        "    # print(np.asarray(imgs_list).shape)\n",
        "    yield [np.asarray(imgs_list)], np.asarray(imgs_list)\n",
        "    num_items = 0\n",
        "    imgs_list = []\n",
        "    #print(f\"finished loading {num_items} items images\")\n",
        "    "
      ],
      "execution_count": null,
      "outputs": []
    },
    {
      "cell_type": "code",
      "metadata": {
        "colab": {
          "base_uri": "https://localhost:8080/"
        },
        "id": "oXoVytAnzGtL",
        "outputId": "b82c8d05-6d8b-4f05-b9c8-084af41230c5"
      },
      "source": [
        "# create the autoencoder model\n",
        "autoencoder, encoder, decoder = get_autoencoder_model()\n",
        "trained_encoder = encoder"
      ],
      "execution_count": null,
      "outputs": [
        {
          "output_type": "stream",
          "text": [
            "Model: \"autoencoder\"\n",
            "_________________________________________________________________\n",
            "Layer (type)                 Output Shape              Param #   \n",
            "=================================================================\n",
            "input_1 (InputLayer)         [(None, 224, 224, 3)]     0         \n",
            "_________________________________________________________________\n",
            "encoder (Functional)         (None, 147)               305107    \n",
            "_________________________________________________________________\n",
            "decoder (Functional)         (None, 224, 224, 3)       72259     \n",
            "=================================================================\n",
            "Total params: 377,366\n",
            "Trainable params: 376,982\n",
            "Non-trainable params: 384\n",
            "_________________________________________________________________\n"
          ],
          "name": "stdout"
        }
      ]
    },
    {
      "cell_type": "code",
      "metadata": {
        "colab": {
          "base_uri": "https://localhost:8080/"
        },
        "id": "4cU5VbSp1EBK",
        "outputId": "8d0f8ac5-a5e6-4412-aa69-25e6be327a58"
      },
      "source": [
        "encoder.summary()\n",
        "decoder.summary()"
      ],
      "execution_count": null,
      "outputs": [
        {
          "output_type": "stream",
          "text": [
            "Model: \"encoder\"\n",
            "_________________________________________________________________\n",
            "Layer (type)                 Output Shape              Param #   \n",
            "=================================================================\n",
            "input_1 (InputLayer)         [(None, 224, 224, 3)]     0         \n",
            "_________________________________________________________________\n",
            "conv2d (Conv2D)              (None, 222, 222, 16)      448       \n",
            "_________________________________________________________________\n",
            "max_pooling2d (MaxPooling2D) (None, 111, 111, 16)      0         \n",
            "_________________________________________________________________\n",
            "conv2d_1 (Conv2D)            (None, 109, 109, 32)      4640      \n",
            "_________________________________________________________________\n",
            "max_pooling2d_1 (MaxPooling2 (None, 54, 54, 32)        0         \n",
            "_________________________________________________________________\n",
            "conv2d_2 (Conv2D)            (None, 52, 52, 32)        9248      \n",
            "_________________________________________________________________\n",
            "max_pooling2d_2 (MaxPooling2 (None, 26, 26, 32)        0         \n",
            "_________________________________________________________________\n",
            "conv2d_3 (Conv2D)            (None, 24, 24, 64)        18496     \n",
            "_________________________________________________________________\n",
            "max_pooling2d_3 (MaxPooling2 (None, 12, 12, 64)        0         \n",
            "_________________________________________________________________\n",
            "conv2d_4 (Conv2D)            (None, 10, 10, 64)        36928     \n",
            "_________________________________________________________________\n",
            "max_pooling2d_4 (MaxPooling2 (None, 5, 5, 64)          0         \n",
            "_________________________________________________________________\n",
            "flatten (Flatten)            (None, 1600)              0         \n",
            "_________________________________________________________________\n",
            "dense (Dense)                (None, 147)               235347    \n",
            "=================================================================\n",
            "Total params: 305,107\n",
            "Trainable params: 305,107\n",
            "Non-trainable params: 0\n",
            "_________________________________________________________________\n",
            "Model: \"decoder\"\n",
            "_________________________________________________________________\n",
            "Layer (type)                 Output Shape              Param #   \n",
            "=================================================================\n",
            "input_2 (InputLayer)         [(None, 147)]             0         \n",
            "_________________________________________________________________\n",
            "reshape (Reshape)            (None, 7, 7, 3)           0         \n",
            "_________________________________________________________________\n",
            "conv2d_transpose (Conv2DTran (None, 14, 14, 64)        1792      \n",
            "_________________________________________________________________\n",
            "batch_normalization (BatchNo (None, 14, 14, 64)        256       \n",
            "_________________________________________________________________\n",
            "conv2d_transpose_1 (Conv2DTr (None, 28, 28, 64)        36928     \n",
            "_________________________________________________________________\n",
            "batch_normalization_1 (Batch (None, 28, 28, 64)        256       \n",
            "_________________________________________________________________\n",
            "conv2d_transpose_2 (Conv2DTr (None, 56, 56, 32)        18464     \n",
            "_________________________________________________________________\n",
            "batch_normalization_2 (Batch (None, 56, 56, 32)        128       \n",
            "_________________________________________________________________\n",
            "conv2d_transpose_3 (Conv2DTr (None, 112, 112, 32)      9248      \n",
            "_________________________________________________________________\n",
            "batch_normalization_3 (Batch (None, 112, 112, 32)      128       \n",
            "_________________________________________________________________\n",
            "conv2d_transpose_4 (Conv2DTr (None, 224, 224, 16)      4624      \n",
            "_________________________________________________________________\n",
            "conv2d_5 (Conv2D)            (None, 224, 224, 3)       435       \n",
            "=================================================================\n",
            "Total params: 72,259\n",
            "Trainable params: 71,875\n",
            "Non-trainable params: 384\n",
            "_________________________________________________________________\n"
          ],
          "name": "stdout"
        }
      ]
    },
    {
      "cell_type": "code",
      "metadata": {
        "colab": {
          "base_uri": "https://localhost:8080/"
        },
        "id": "6TxBtQcHzLiH",
        "outputId": "36f269e0-ca7b-4c43-a0bf-57bc14c6bcaf"
      },
      "source": [
        "generator = cae_generator()\n",
        "autoencoder.fit(x=generator, steps_per_epoch=int(len(items)/cae_batch_size), epochs = 3)"
      ],
      "execution_count": null,
      "outputs": [
        {
          "output_type": "stream",
          "text": [
            "Epoch 1/3\n",
            "3457/3457 [==============================] - 1408s 393ms/step - loss: 0.1450\n",
            "Epoch 2/3\n",
            "3457/3457 [==============================] - 1353s 391ms/step - loss: 0.1131\n",
            "Epoch 3/3\n",
            "1858/3457 [===============>..............] - ETA: 10:26 - loss: 0.1113"
          ],
          "name": "stdout"
        }
      ]
    },
    {
      "cell_type": "markdown",
      "metadata": {
        "id": "CcLs4DSjAdWj"
      },
      "source": [
        "####Save Autoencoder"
      ]
    },
    {
      "cell_type": "code",
      "metadata": {
        "id": "rWvXQcy3ATXE"
      },
      "source": [
        "# saving the complete autoencoder, encoder and decoder models\n",
        "\n",
        "ae_save_path = \"gdrive/My Drive/visually aware/autoencoder model/autoencoder_amazon_men\"\n",
        "autoencoder.save(ae_save_path)\n",
        "\n",
        "encoder_save_path = \"gdrive/My Drive/visually aware/autoencoder model/encoder_amazon_men\"\n",
        "encoder.save(encoder_save_path)\n",
        "\n",
        "decoder_save_path = \"gdrive/My Drive/visually aware/autoencoder model/decoder_amazon_men\"\n",
        "decoder.save(decoder_save_path)"
      ],
      "execution_count": null,
      "outputs": []
    },
    {
      "cell_type": "markdown",
      "metadata": {
        "id": "pfM1Xjo-t8qQ"
      },
      "source": [
        "##Test Autoencoder"
      ]
    },
    {
      "cell_type": "code",
      "metadata": {
        "id": "ytRakVxwuEfm"
      },
      "source": [
        "# get an example image from the dataset and check the embedding creation and reconstruct it\n",
        "\n",
        "image_url = items[2000][b'imUrl'].decode(\"utf-8\")\n",
        "response = requests.get(image_url)\n",
        "img = Image.open(BytesIO(response.content))\n",
        "img_arr = np.uint8(np.asarray(img.convert(\"RGB\").resize((224, 224))))\n",
        "img_arr = (img_arr - 127.5) / 127.5"
      ],
      "execution_count": null,
      "outputs": []
    },
    {
      "cell_type": "code",
      "metadata": {
        "colab": {
          "base_uri": "https://localhost:8080/",
          "height": 241
        },
        "id": "5dQsijlpur0M",
        "outputId": "a7a57968-595d-4991-9030-6db4b10cb813"
      },
      "source": [
        "array_to_img(img_arr)"
      ],
      "execution_count": null,
      "outputs": [
        {
          "output_type": "execute_result",
          "data": {
            "image/png": "[encoded data removed]",
            "text/plain": [
              "<PIL.Image.Image image mode=RGB size=224x224 at 0x7F8C15052DD0>"
            ]
          },
          "metadata": {
            "tags": []
          },
          "execution_count": 19
        }
      ]
    },
    {
      "cell_type": "code",
      "metadata": {
        "id": "-b-W36RHumz0"
      },
      "source": [
        "embedding = encoder.predict(np.asarray([img_arr]))"
      ],
      "execution_count": null,
      "outputs": []
    },
    {
      "cell_type": "code",
      "metadata": {
        "id": "yBhPnwl3vNE2"
      },
      "source": [
        "reconstructed_img = decoder.predict(embedding)"
      ],
      "execution_count": null,
      "outputs": []
    },
    {
      "cell_type": "code",
      "metadata": {
        "colab": {
          "base_uri": "https://localhost:8080/",
          "height": 241
        },
        "id": "qO6T0g4pvZ8i",
        "outputId": "77ac5508-03ed-4de4-bc96-3ce801f99c73"
      },
      "source": [
        "# present the reconstructed item image\n",
        "\n",
        "array_to_img(reconstructed_img[0])"
      ],
      "execution_count": null,
      "outputs": [
        {
          "output_type": "execute_result",
          "data": {
            "image/png": "[encoded data removed]",
            "text/plain": [
              "<PIL.Image.Image image mode=RGB size=224x224 at 0x7F8C157DA7D0>"
            ]
          },
          "metadata": {
            "tags": []
          },
          "execution_count": 22
        }
      ]
    },
    {
      "cell_type": "markdown",
      "metadata": {
        "id": "8XKkWOQtBs6h"
      },
      "source": [
        "##Siamese Leg Encoder Model"
      ]
    },
    {
      "cell_type": "code",
      "metadata": {
        "id": "-zBqXYBoB4br"
      },
      "source": [
        "# add a trainable layer in the size of the latent dimension and freeze all the other layers\n",
        "\n",
        "def get_trainable_encoder(encoder, latent_dim):\n",
        "  # freeze all encoder layers\n",
        "  for layer in encoder.layers[:]:\n",
        "    layer.trainable = False\n",
        "\n",
        "  # # check all layers are frozen\n",
        "  # for layer in encoder.layers:\n",
        "  #   print(layer, layer.trainable)\n",
        "\n",
        "  trainable_encoder = Sequential()\n",
        "  # add the non trainable encoder\n",
        "  trainable_encoder.add(encoder)\n",
        "  # add a new trainable layer\n",
        "  trainable_encoder.add(Dense(latent_dim))\n",
        "\n",
        "  return trainable_encoder"
      ],
      "execution_count": null,
      "outputs": []
    },
    {
      "cell_type": "markdown",
      "metadata": {
        "id": "0u6T60gA3A1Z"
      },
      "source": [
        "# Subsets"
      ]
    },
    {
      "cell_type": "code",
      "metadata": {
        "id": "w2IdUgf_3Dli"
      },
      "source": [
        "user_num_original = user_num\n",
        "user_train_original = user_train\n",
        "user_val_original = user_validation"
      ],
      "execution_count": null,
      "outputs": []
    },
    {
      "cell_type": "code",
      "metadata": {
        "id": "HIlGsAq3Wyw2"
      },
      "source": [
        "# for each batch, force the number of users to be the same\n",
        "batch_size = 128\n",
        "batch_count = int(np.ceil(user_num_original / batch_size))\n",
        "\n",
        "# one complete model will be linked to each user_subset\n",
        "user_subsets = dict(zip(range(batch_count), np.array_split(range(user_num_original), batch_count)))"
      ],
      "execution_count": null,
      "outputs": []
    },
    {
      "cell_type": "markdown",
      "metadata": {
        "id": "MyOrfAUZzYx6"
      },
      "source": [
        "# Utils"
      ]
    },
    {
      "cell_type": "code",
      "metadata": {
        "id": "Ey4GeNg3gq6A"
      },
      "source": [
        "# translate image from byte code to an array and normalize its values from 0-255 to -1 - 1\n",
        "def image_translate(image_bytes,\n",
        "                    image_width=224,\n",
        "                    image_height=224):\n",
        "    img = (np.uint8(np.asarray(Image.open(BytesIO(image_bytes)).convert(\"RGB\").resize((image_height, image_width)))) - 127.5)  / 127.5\n",
        "    return img"
      ],
      "execution_count": null,
      "outputs": []
    },
    {
      "cell_type": "code",
      "metadata": {
        "id": "-iV5XykGzboh"
      },
      "source": [
        "# get train batches which was sampled uniformly for each user\n",
        "def uniform_train_sample_batch(user_train_ratings, item_images, image_width=224, \n",
        "                               image_height=224, sample=True, batch_size=None, user_idx=None):\n",
        "    \"\"\"\n",
        "    validation_sample_count (int): Number of not-observed items to sample to get the validation set for each user.\n",
        "    \"\"\"\n",
        "\n",
        "    if batch_size is not None:\n",
        "        users = range(batch_size)\n",
        "    else:\n",
        "        users = user_idx\n",
        "\n",
        "    triplet_train_batch = {}\n",
        "    \n",
        "    # iterate over each user in subset\n",
        "    for b in users:\n",
        "\n",
        "        # training set\n",
        "        if sample:\n",
        "            u = random.randrange(len(user_train_ratings))\n",
        "        else:\n",
        "            u = b\n",
        "\n",
        "        i = user_train_ratings[u][random.randrange(len(user_train_ratings[u]))][b'productid'] # get random obesrved item\n",
        "        j = random.randrange(len(item_images)) # sample random item\n",
        "        # while the sampled items observed by the user - sample other item until found non-observed item\n",
        "        while j in [item[b'productid'] for item in user_train_ratings[u]]:\n",
        "            j = random.randrange(len(item_images))\n",
        "\n",
        "        image_i = image_translate(item_images[i][b'imgs'], \n",
        "                                  image_width, \n",
        "                                  image_height)\n",
        "        image_j = image_translate(item_images[j][b'imgs'],\n",
        "                                  image_width, \n",
        "                                  image_height)\n",
        "        triplet_train_batch[u] = [image_i,\n",
        "                                  image_j]\n",
        "        \n",
        "    return triplet_train_batch"
      ],
      "execution_count": null,
      "outputs": []
    },
    {
      "cell_type": "code",
      "metadata": {
        "id": "-iNUZdz7YI1Q"
      },
      "source": [
        "# get validation batches which was sampled uniformly for each user\n",
        "def uniform_validation_sample_batch(user_validation_ratings,\n",
        "                                          item_images,\n",
        "                                          image_width=224,\n",
        "                                          image_height=224,\n",
        "                                          validation_sample_count=1000,\n",
        "                                          sample=True,\n",
        "                                          batch_size=None,\n",
        "                                          user_idx=None):\n",
        "    \"\"\"\n",
        "    validation_sample_count (int): Number of not-observed items to sample to get the validation set for each user.\n",
        "    \"\"\"\n",
        "\n",
        "    if batch_size is not None:\n",
        "        users = range(batch_size)\n",
        "    else:\n",
        "        users = user_idx\n",
        "\n",
        "    triplet_validation_batch = {}\n",
        "    \n",
        "    # iterate over each user in subset\n",
        "    for b in users:\n",
        "\n",
        "        if sample:\n",
        "            u = random.randrange(len(user_validation_ratings))\n",
        "        else:\n",
        "            u = b\n",
        "\n",
        "        # validation set\n",
        "        i = user_validation_ratings[u][0][b'productid'] # get the only observed item\n",
        "        # get its image\n",
        "        image_i = image_translate(item_images[i][b'imgs'],\n",
        "                                  image_width, \n",
        "                                  image_height)\n",
        "        \n",
        "        # create a set of all user observed items   \n",
        "        reviewed_items = set()\n",
        "        for item in user_validation_ratings[u]:\n",
        "            reviewed_items.add(item[b'productid'])\n",
        "        reviewed_items.add(user_validation_ratings[u][0][b'productid'])\n",
        "        \n",
        "        # search for a non-observed item\n",
        "        triplet_validation_batch[u] = []\n",
        "        for j in random.sample(range(len(item_images)), validation_sample_count):\n",
        "            if j not in reviewed_items:\n",
        "                image_j = image_translate(item_images[j][b'imgs'],\n",
        "                                          image_width, \n",
        "                                          image_height)\n",
        "                triplet_validation_batch[u].append([image_i,\n",
        "                                                    image_j])\n",
        "\n",
        "    return triplet_validation_batch"
      ],
      "execution_count": null,
      "outputs": []
    },
    {
      "cell_type": "code",
      "metadata": {
        "id": "W1a0Sd0VxutI"
      },
      "source": [
        "# Define the loss function as ln(sigmoid) according to the BPR method\n",
        "# BPR wants to maximize the loss function while Keras engine minimizes it so we added a subtraction \n",
        "def bpr_loss(label_matrix, prediction_matrix):\n",
        "    return 1 - tf.reduce_sum(tf.math.log(tf.sigmoid(prediction_matrix)))"
      ],
      "execution_count": null,
      "outputs": []
    },
    {
      "cell_type": "code",
      "metadata": {
        "id": "q_3LyZB0zd5q"
      },
      "source": [
        "# Count the ratio of prediction value > 0\n",
        "# i.e., predicting positive item score > negative item score for a user\n",
        "def auc(label_tensor, prediction_tensor):\n",
        "    return K.mean(K.switch(prediction_tensor > K.zeros_like(prediction_tensor),\n",
        "                           K.ones_like(prediction_tensor),    # 1\n",
        "                           K.zeros_like(prediction_tensor)))  # 0"
      ],
      "execution_count": null,
      "outputs": []
    },
    {
      "cell_type": "markdown",
      "metadata": {
        "id": "IKLYfMXxBTgv"
      },
      "source": [
        "#Siamese Network with Autoencoder"
      ]
    },
    {
      "cell_type": "code",
      "metadata": {
        "id": "atJVfnu0CmWR"
      },
      "source": [
        "def AutoencoderSiameseNet(trained_encoder, users_dim, width, height, depth,latent_dim, w_init=\"RandomNormal\", cnn_w_regularizer=None, fc_w_regularizer=None, u_w_regularizer=None, b_init=\"RandomNormal\"):\n",
        "  # create the convolutional autoencoder based model\n",
        "\n",
        "        # user ID input\n",
        "        user_input = Input((1,), name='User')\n",
        "\n",
        "        image_shape = (width, height, depth)\n",
        "        \n",
        "        # observed image\n",
        "        left_input = Input(image_shape,\n",
        "                           name=\"observed_image\")\n",
        "        # non-observed image\n",
        "        right_input = Input(image_shape,\n",
        "                            name=\"non_observed_image\")\n",
        "\n",
        "        # Build encoder based model to use in each siamese leg\n",
        "        trained_encoder_net = get_trainable_encoder(trained_encoder, latent_dim)\n",
        "\n",
        "\n",
        "        # preference layer\n",
        "        preference_relationship = Dot(axes=1, name=\"score_rank\")\n",
        "\n",
        "        # Apply the pipeline to the inputs\n",
        "        # call the convnet Sequential model on each of the input tensors\n",
        "        # so params will be shared\n",
        "        encoded_l = trained_encoder_net(left_input)\n",
        "        encoded_r = trained_encoder_net(right_input)\n",
        "\n",
        "        # merge the two encoded inputs through the L1 distance\n",
        "        L1_dist = tf.keras.layers.Subtract()([encoded_l, encoded_r])\n",
        "        \n",
        "        # retrieve the single user preference\n",
        "        user_vec = Flatten(name='FlattenUsers')(Embedding(user_num+1, latent_dimensionality, name = 'User-Embedding', embeddings_initializer= tf.keras.initializers.RandomUniform(0,0.01),\n",
        "                                                          input_length=1, embeddings_regularizer=u_w_regularizer)(user_input))\n",
        "        \n",
        "        # get the preference score\n",
        "        prediction = preference_relationship([user_vec, L1_dist])\n",
        "        \n",
        "        # Create the model\n",
        "        model = Model(inputs=[user_input, left_input, right_input],\n",
        "                      outputs=prediction)\n",
        "        \n",
        "        model.summary()\n",
        "        \n",
        "        \n",
        "        return model"
      ],
      "execution_count": null,
      "outputs": []
    },
    {
      "cell_type": "markdown",
      "metadata": {
        "id": "2qmAPrZ1tO0T"
      },
      "source": [
        "# Build Model"
      ]
    },
    {
      "cell_type": "markdown",
      "metadata": {
        "id": "ZqVyq_IQDecs"
      },
      "source": [
        "##Autoencoder Based Model"
      ]
    },
    {
      "cell_type": "code",
      "metadata": {
        "colab": {
          "base_uri": "https://localhost:8080/"
        },
        "id": "KjLJ0dx4Dl8B",
        "outputId": "9975ff58-6274-43e4-fd19-e4e62ac332cb"
      },
      "source": [
        "# create an instance of the CAE model\n",
        "\n",
        "cae_siamese_net = AutoencoderSiameseNet(trained_encoder = trained_encoder,\n",
        "                                        users_dim=len(user_subsets[0]),\n",
        "                                        width=image_width,\n",
        "                                        height=image_height,\n",
        "                                        depth=3,\n",
        "                                        latent_dim=latent_dimensionality,\n",
        "                                        cnn_w_regularizer=l2(lambda_cnn),\n",
        "                                        fc_w_regularizer=l2(lambda_fc),\n",
        "                                        u_w_regularizer=l2(lambda_u),\n",
        "                                        w_init = tf.keras.initializers.GlorotNormal())"
      ],
      "execution_count": null,
      "outputs": [
        {
          "output_type": "stream",
          "text": [
            "Model: \"model_1\"\n",
            "__________________________________________________________________________________________________\n",
            "Layer (type)                    Output Shape         Param #     Connected to                     \n",
            "==================================================================================================\n",
            "User (InputLayer)               [(None, 1)]          0                                            \n",
            "__________________________________________________________________________________________________\n",
            "observed_image (InputLayer)     [(None, 224, 224, 3) 0                                            \n",
            "__________________________________________________________________________________________________\n",
            "non_observed_image (InputLayer) [(None, 224, 224, 3) 0                                            \n",
            "__________________________________________________________________________________________________\n",
            "User-Embedding (Embedding)      (None, 1, 50)        1712250     User[0][0]                       \n",
            "__________________________________________________________________________________________________\n",
            "sequential_1 (Sequential)       (None, 50)           312507      observed_image[0][0]             \n",
            "                                                                 non_observed_image[0][0]         \n",
            "__________________________________________________________________________________________________\n",
            "FlattenUsers (Flatten)          (None, 50)           0           User-Embedding[0][0]             \n",
            "__________________________________________________________________________________________________\n",
            "tf.math.subtract_1 (TFOpLambda) (None, 50)           0           sequential_1[0][0]               \n",
            "                                                                 sequential_1[1][0]               \n",
            "__________________________________________________________________________________________________\n",
            "score_rank (Dot)                (None, 1)            0           FlattenUsers[0][0]               \n",
            "                                                                 tf.math.subtract_1[0][0]         \n",
            "==================================================================================================\n",
            "Total params: 2,024,757\n",
            "Trainable params: 1,719,650\n",
            "Non-trainable params: 305,107\n",
            "__________________________________________________________________________________________________\n"
          ],
          "name": "stdout"
        }
      ]
    },
    {
      "cell_type": "code",
      "metadata": {
        "id": "9_xxP0HHEABn"
      },
      "source": [
        "# compile model\n",
        "from tensorflow.keras import regularizers\n",
        "\n",
        "optimizer = Adam()\n",
        "cae_siamese_net.compile(loss=bpr_loss,\n",
        "                         optimizer=optimizer,\n",
        "                         metrics=[auc])"
      ],
      "execution_count": null,
      "outputs": []
    },
    {
      "cell_type": "markdown",
      "metadata": {
        "id": "inX0D6EmzVaT"
      },
      "source": [
        "# Train"
      ]
    },
    {
      "cell_type": "markdown",
      "metadata": {
        "id": "8PcE9dxNFgzB"
      },
      "source": [
        "##Helper Functions"
      ]
    },
    {
      "cell_type": "code",
      "metadata": {
        "id": "g9sH6jxhzjp5"
      },
      "source": [
        "# get train subset using the uniform sampling\n",
        "def get_train(user_subset, user_train):\n",
        "  train = uniform_train_sample_batch(\n",
        "      sample=False,\n",
        "      user_idx=user_subset,\n",
        "      user_train_ratings=user_train,\n",
        "      item_images=items,\n",
        "      image_width=image_width,\n",
        "      image_height=image_height)\n",
        "  return train"
      ],
      "execution_count": null,
      "outputs": []
    },
    {
      "cell_type": "code",
      "metadata": {
        "id": "dHU99r0kifL1"
      },
      "source": [
        "# get validation subset using the uniform sampling\n",
        "def get_validation(user_subset, user_validation):\n",
        "  validation = uniform_validation_sample_batch(\n",
        "      sample=False,\n",
        "      user_idx=user_subset,\n",
        "      user_validation_ratings=user_validation,\n",
        "      item_images=items,\n",
        "      image_width=image_width,\n",
        "      image_height=image_height,\n",
        "      validation_sample_count=validation_sample_count)\n",
        "  return validation"
      ],
      "execution_count": null,
      "outputs": []
    },
    {
      "cell_type": "code",
      "metadata": {
        "id": "6AMm61Ok0GhS"
      },
      "source": [
        "# create triplets lists with the user ID and the two images - train\n",
        "def get_train_triplet_lists(train):\n",
        "    user_placeholder = []\n",
        "    observed_image = []\n",
        "    not_observed_image = []\n",
        "    \n",
        "    for u, triplet in train.items():\n",
        "        user_placeholder.append(u)\n",
        "        observed_image.append(triplet[0])\n",
        "        not_observed_image.append(triplet[1])\n",
        "        \n",
        "    # label set does not exist in BPR, so we give Keras with a dummy label set\n",
        "    labels = np.ones((len(train), 1), dtype=int)\n",
        "    \n",
        "    return user_placeholder, observed_image, not_observed_image, labels"
      ],
      "execution_count": null,
      "outputs": []
    },
    {
      "cell_type": "code",
      "metadata": {
        "id": "lAQs3fnG1axK"
      },
      "source": [
        "# create triplets lists with the user ID and the two images - validation\n",
        "def get_val_triplet_lists(validation):\n",
        "    user_placeholder = []\n",
        "    observed_image = []\n",
        "    not_observed_image = []\n",
        "\n",
        "    for u, triplet in validation.items():      \n",
        "      user_placeholder.append(u)\n",
        "      observed_image.append(triplet[0])\n",
        "      not_observed_image.append(triplet[1])\n",
        "      \n",
        "    # label set does not exist in BPR, so we give Keras with a dummy label set\n",
        "    labels = np.ones((len(validation), 1), dtype=int)\n",
        "\n",
        "    return user_placeholder, observed_image, not_observed_image, labels"
      ],
      "execution_count": null,
      "outputs": []
    },
    {
      "cell_type": "code",
      "metadata": {
        "id": "Lfp7NKehYaL5"
      },
      "source": [
        "# generate train batches throughout the training phase - yields triplet batches\n",
        "def generator():\n",
        "  batches = range(batch_count)\n",
        "  num_batches_in_curr_epoch = 0\n",
        "  user_subset_idx = 0\n",
        "  while True:\n",
        "    user_subset = user_subsets[user_subset_idx] # get batch users\n",
        "    user_train = {k: v for k, v in user_train_original.items() if k in user_subset}\n",
        "    train = get_train(user_subset, user_train)\n",
        "    user_placeholder, observed_image, not_observed_image, labels = get_train_triplet_lists(train)\n",
        "    \n",
        "    yield [np.asarray(user_placeholder), np.asarray(observed_image), np.asarray(not_observed_image)], np.asarray(labels)\n",
        "    \n",
        "    num_batches_in_curr_epoch+=1\n",
        "    user_subset_idx+=1\n",
        "    \n",
        "    if num_batches_in_curr_epoch >= batch_count:\n",
        "      # reset the lists\n",
        "      num_batches_in_curr_epoch = 0\n",
        "      user_subset_idx = 0"
      ],
      "execution_count": null,
      "outputs": []
    },
    {
      "cell_type": "code",
      "metadata": {
        "id": "khzY3VEfUm6O"
      },
      "source": [
        "# generate validation batches throughout the evaluation phase - yields triplet batches\n",
        "def val_generator():\n",
        "  batches = range(batch_count)\n",
        "  num_batches_in_curr_epoch = 0\n",
        "  user_subset_idx = 0\n",
        "  while True:\n",
        "    user_subset = user_subsets[user_subset_idx] # get batch users\n",
        "    validation = get_validation(user_subset, user_validation)\n",
        "    user_placeholder, observed_image, not_observed_image, labels = get_val_triplet_lists(validation)\n",
        "    \n",
        "    yield [np.asarray(user_placeholder), np.asarray(observed_image), np.asarray(not_observed_image)], np.asarray(labels)\n",
        "\n",
        "    num_batches_in_curr_epoch+=1\n",
        "    user_subset_idx+=1\n",
        "    \n",
        "    if num_batches_in_curr_epoch >= batch_count:\n",
        "      # reset the lists\n",
        "      num_batches_in_curr_epoch = 0\n",
        "      user_subset_idx = 0"
      ],
      "execution_count": null,
      "outputs": []
    },
    {
      "cell_type": "markdown",
      "metadata": {
        "id": "OmNtD3a9EdIu"
      },
      "source": [
        "##CAE Training"
      ]
    },
    {
      "cell_type": "code",
      "metadata": {
        "id": "sKvB8xO_EecR"
      },
      "source": [
        "# create generators of train and validation sets\n",
        "\n",
        "train_generator = train_generator()\n",
        "validation_generator = val_generator()"
      ],
      "execution_count": null,
      "outputs": []
    },
    {
      "cell_type": "code",
      "metadata": {
        "colab": {
          "base_uri": "https://localhost:8080/"
        },
        "id": "Ll6MzxojUvrI",
        "outputId": "cbcc8b8e-186b-4d84-a867-70575a6bdb78"
      },
      "source": [
        "# train the cae model\n",
        "\n",
        "val_scores = []\n",
        "history = []\n",
        "model_path = \"cae_siamese_net_trained_model_30_epochs_amazon_men\"\n",
        "\n",
        "for i in range(2):\n",
        "  history.append(cae_siamese_net.fit(x=train_generator, steps_per_epoch = batch_count, epochs = 10))  # train\n",
        "  val_scores.append(cae_siamese_net.evaluate(validation_generator, steps = batch_count))  # validation\n",
        "  print(val_scores)\n",
        "  cae_siamese_net.save(model_path, save_traces=True, include_optimizer=True)  # save model"
      ],
      "execution_count": null,
      "outputs": [
        {
          "output_type": "stream",
          "text": [
            "Epoch 1/10\n",
            "256/256 [==============================] - 403s 2s/step - loss: 97.3451 - auc: 0.4959\n",
            "Epoch 2/10\n",
            "256/256 [==============================] - 394s 2s/step - loss: 93.2002 - auc: 0.5010\n",
            "Epoch 3/10\n",
            "256/256 [==============================] - 390s 2s/step - loss: 93.2035 - auc: 0.5027\n",
            "Epoch 4/10\n",
            "256/256 [==============================] - 368s 1s/step - loss: 93.2058 - auc: 0.5048\n",
            "Epoch 5/10\n",
            "256/256 [==============================] - 367s 1s/step - loss: 93.2078 - auc: 0.4986\n",
            "Epoch 6/10\n",
            "256/256 [==============================] - 368s 1s/step - loss: 93.2094 - auc: 0.4975\n",
            "Epoch 7/10\n",
            "256/256 [==============================] - 367s 1s/step - loss: 93.2110 - auc: 0.4961\n",
            "Epoch 8/10\n",
            "256/256 [==============================] - 370s 1s/step - loss: 93.2123 - auc: 0.4939\n",
            "Epoch 9/10\n",
            "256/256 [==============================] - 369s 1s/step - loss: 93.2137 - auc: 0.4977\n",
            "Epoch 10/10\n",
            "256/256 [==============================] - 371s 1s/step - loss: 93.2145 - auc: 0.4949\n"
          ],
          "name": "stdout"
        }
      ]
    },
    {
      "cell_type": "code",
      "metadata": {
        "id": "_Vx_aM2klK8b"
      },
      "source": [
        "# remove garbage\n",
        "import gc\n",
        "gc.collect()"
      ],
      "execution_count": null,
      "outputs": []
    },
    {
      "cell_type": "markdown",
      "metadata": {
        "id": "g94nC0irUo22"
      },
      "source": [
        "# Load Model"
      ]
    },
    {
      "cell_type": "code",
      "metadata": {
        "id": "umOT0mBDUqfG"
      },
      "source": [
        "# load pretrained model\n",
        "model_path = \"cae_siamese_net_trained_model_30_epochs_amazon_men\"\n",
        "conv_siamese_net = tf.keras.models.load_model(model_path, custom_objects={'auc': auc, 'bpr_loss': bpr_loss})"
      ],
      "execution_count": null,
      "outputs": []
    },
    {
      "cell_type": "code",
      "metadata": {
        "id": "7CsD4jDpWnMF"
      },
      "source": [
        "# compile the model\n",
        "optimizer = Adam(learning_rate)\n",
        "conv_siamese_net.compile(loss=bpr_loss,\n",
        "                         optimizer=optimizer,\n",
        "                         metrics=[auc])"
      ],
      "execution_count": null,
      "outputs": []
    },
    {
      "cell_type": "markdown",
      "metadata": {
        "id": "QgeHRhrEGaN4"
      },
      "source": [
        "# Test"
      ]
    },
    {
      "cell_type": "code",
      "metadata": {
        "id": "IiZYpUo8z5kK"
      },
      "source": [
        "# test set generator - yields batches through evaluation\n",
        "def test_generator():\n",
        "  batches = range(batch_count)\n",
        "  num_batches_in_curr_epoch = 0\n",
        "  user_subset_idx = 0\n",
        "  while True:\n",
        "    user_subset = user_subsets[user_subset_idx] # get batch users\n",
        "    test = get_validation(user_subset, user_test)  \n",
        "    user_placeholder, observed_image, not_observed_image, labels = get_val_triplet_lists(test)\n",
        "    \n",
        "    yield [np.asarray(user_placeholder), np.asarray(observed_image), np.asarray(not_observed_image)], np.asarray(labels)\n",
        "\n",
        "    num_batches_in_curr_epoch+=1\n",
        "    user_subset_idx+=1\n",
        "    \n",
        "    if num_batches_in_curr_epoch >= batch_count:\n",
        "      # reset the lists\n",
        "      num_batches_in_curr_epoch = 0\n",
        "      user_subset_idx = 0"
      ],
      "execution_count": null,
      "outputs": []
    },
    {
      "cell_type": "code",
      "metadata": {
        "id": "_wg3uNV3DtOI"
      },
      "source": [
        "# evaluate on test set\n",
        "test_gen = test_generator()\n",
        "conv_siamese_net.evaluate(test_gen, steps = batch_count)"
      ],
      "execution_count": null,
      "outputs": []
    }
  ]
}